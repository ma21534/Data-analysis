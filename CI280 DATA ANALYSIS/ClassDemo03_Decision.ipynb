{
 "cells": [
  {
   "cell_type": "code",
   "execution_count": null,
   "metadata": {},
   "outputs": [],
   "source": [
    "# chapter 3 Decision\n",
    "\n",
    "# Program 3-2  - Use if ... else\n",
    "\n",
    "BASE_HOURS = 40\n",
    "\n",
    "# Get input\n",
    "hours = float(input('Enter work hours: '))\n",
    "pay_rate = float(input('Enter pay rate: '))\n",
    "\n",
    "if hours >= BASE_HOURS:\n",
    "    pay = BASE_HOURS*pay_rate + (hours - BASE_HOURS)*pay_rate*1.5\n",
    "else:\n",
    "    pay = hours*pay_rate\n",
    "\n",
    "print('Your pay is $' ,pay)"
   ]
  },
  {
   "cell_type": "code",
   "execution_count": null,
   "metadata": {},
   "outputs": [],
   "source": [
    "# Program 3-5 - credit card\n",
    "# nested if... else\n",
    "\n",
    "MIN_SALARY = 30000\n",
    "MIN_YEARS = 2\n",
    "\n",
    "salary = float(input('Enter salary: '))\n",
    "years = int(input('Enter years: '))\n",
    "\n",
    "if salary >= MIN_SALARY:\n",
    "    if years >= MIN_YEARS:\n",
    "        print('Yes')\n",
    "    else:\n",
    "        print('No, year')\n",
    "else:\n",
    "    print('No, low salary')"
   ]
  },
  {
   "cell_type": "code",
   "execution_count": null,
   "metadata": {},
   "outputs": [],
   "source": [
    "# Program 3-6 -- grade\n",
    "# if...elif...\n",
    "\n",
    "score = float(input('Enter score'))\n",
    "\n",
    "if score >= 90:\n",
    "    print('A')\n",
    "elif score >= 80:\n",
    "    print('B')\n",
    "elif score >= 70:\n",
    "    print('C')\n",
    "elif score >= 60:\n",
    "    print('D')\n",
    "else:\n",
    "    print('F')"
   ]
  },
  {
   "cell_type": "code",
   "execution_count": null,
   "metadata": {},
   "outputs": [],
   "source": [
    "MIN_SALARY = 30000\n",
    "MIN_YEARS = 2\n",
    "\n",
    "salary = float(input('Enter salary: '))\n",
    "years = int(input('Enter years: '))\n",
    "\n",
    "if salary >= MIN_SALARY and years >= MIN_YEARS:\n",
    "    print('Yes')\n",
    "else:\n",
    "    print('No')"
   ]
  },
  {
   "cell_type": "code",
   "execution_count": 1,
   "metadata": {},
   "outputs": [
    {
     "name": "stdout",
     "output_type": "stream",
     "text": [
      "\n",
      "===================\n"
     ]
    },
    {
     "ename": "NameError",
     "evalue": "name 'salary' is not defined",
     "output_type": "error",
     "traceback": [
      "\u001b[1;31m---------------------------------------------------------------------------\u001b[0m",
      "\u001b[1;31mNameError\u001b[0m                                 Traceback (most recent call last)",
      "\u001b[1;32m<ipython-input-1-690805520aa0>\u001b[0m in \u001b[0;36m<module>\u001b[1;34m\u001b[0m\n\u001b[0;32m      1\u001b[0m \u001b[0mprint\u001b[0m\u001b[1;33m(\u001b[0m\u001b[1;34m'\\n==================='\u001b[0m\u001b[1;33m)\u001b[0m\u001b[1;33m\u001b[0m\u001b[1;33m\u001b[0m\u001b[0m\n\u001b[1;32m----> 2\u001b[1;33m \u001b[1;32mif\u001b[0m \u001b[0msalary\u001b[0m \u001b[1;33m>=\u001b[0m \u001b[0mMIN_SALARY\u001b[0m \u001b[1;32mor\u001b[0m \u001b[0myears\u001b[0m \u001b[1;33m>=\u001b[0m \u001b[0mMIN_YEARS\u001b[0m\u001b[1;33m:\u001b[0m\u001b[1;33m\u001b[0m\u001b[1;33m\u001b[0m\u001b[0m\n\u001b[0m\u001b[0;32m      3\u001b[0m     \u001b[0mprint\u001b[0m\u001b[1;33m(\u001b[0m\u001b[1;34m'Yes'\u001b[0m\u001b[1;33m)\u001b[0m\u001b[1;33m\u001b[0m\u001b[1;33m\u001b[0m\u001b[0m\n\u001b[0;32m      4\u001b[0m \u001b[1;32melse\u001b[0m\u001b[1;33m:\u001b[0m\u001b[1;33m\u001b[0m\u001b[1;33m\u001b[0m\u001b[0m\n\u001b[0;32m      5\u001b[0m     \u001b[0mprint\u001b[0m\u001b[1;33m(\u001b[0m\u001b[1;34m'No'\u001b[0m\u001b[1;33m)\u001b[0m\u001b[1;33m\u001b[0m\u001b[1;33m\u001b[0m\u001b[0m\n",
      "\u001b[1;31mNameError\u001b[0m: name 'salary' is not defined"
     ]
    }
   ],
   "source": [
    "print('\\n===================')\n",
    "if salary >= MIN_SALARY or years >= MIN_YEARS:\n",
    "    print('Yes')\n",
    "else:\n",
    "    print('No')"
   ]
  },
  {
   "cell_type": "code",
   "execution_count": null,
   "metadata": {},
   "outputs": [],
   "source": []
  }
 ],
 "metadata": {
  "kernelspec": {
   "display_name": "Python 3",
   "language": "python",
   "name": "python3"
  },
  "language_info": {
   "codemirror_mode": {
    "name": "ipython",
    "version": 3
   },
   "file_extension": ".py",
   "mimetype": "text/x-python",
   "name": "python",
   "nbconvert_exporter": "python",
   "pygments_lexer": "ipython3",
   "version": "3.7.6"
  }
 },
 "nbformat": 4,
 "nbformat_minor": 2
}
