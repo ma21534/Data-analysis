{
 "cells": [
  {
   "cell_type": "markdown",
   "metadata": {},
   "source": [
    "# Lab01 ( 20 points)\n",
    "\n",
    "# 7/8/2019\n",
    "\n",
    "## Python Basics"
   ]
  },
  {
   "cell_type": "markdown",
   "metadata": {},
   "source": [
    "Problem 1 ( 5 pts)\n",
    "\n",
    "pay = salary + bonus\n",
    "\n",
    "Step 1: Get input: salary, bonusrate\n",
    "\n",
    "Step 2: Compute\n",
    "\n",
    "Step 3: Display total pay"
   ]
  },
  {
   "cell_type": "code",
   "execution_count": null,
   "metadata": {},
   "outputs": [],
   "source": [
    "# Input salary\n",
    "salary = float(input(\"Enter salary:\"))\n",
    "\n",
    "# Input bonus rate\n",
    "bonus = float(input(\"Enter bonus:\"))\n",
    "\n",
    "# Computer total_pay\n",
    "bonus = salary*bonus\n",
    "total_pay = salary + bonus\n",
    "\n",
    "# Display total_pay\n",
    "print(\"salary: $ \" , salary)\n",
    "print(\"bonus: $\" , bonus)\n",
    "print(\"Total pay: $\" , total_pay)\n"
   ]
  },
  {
   "cell_type": "markdown",
   "metadata": {},
   "source": [
    "Problem 2: Age Classifier ( 5 pts)\n",
    "\n",
    "Write a program that ask the user to enter a per's age. The program should display a message indicate whether the person is:\n",
    "infant, child, teenager, or adult.\n",
    "Age \n",
    "         0 - <=1    infant\n",
    "    >1  and <= 13   child\n",
    "    >13 and <= 20   teenager\n",
    "    >20             adult"
   ]
  },
  {
   "cell_type": "code",
   "execution_count": null,
   "metadata": {},
   "outputs": [],
   "source": [
    "# age classifier\n",
    "age = int(input('Please enter customer age: \\n'))\n",
    "\n",
    "label ='**'\n",
    "if age <= 1:\n",
    "    label = \"infant\"\n",
    "elif age <= 13:\n",
    "    label \"child\"\n",
    "elif age<= 20:\n",
    "    label = \"teenage\"\n",
    "else:\n",
    "    label = \"adult\"\n",
    "\n",
    "\n",
    "print(label)"
   ]
  },
  {
   "cell_type": "markdown",
   "metadata": {},
   "source": [
    "Problem 3 Use loop ( 5 pts)\n",
    "\n",
    "Conver speeds 60 kph to 130 kph (in 10 kph increments) to mph"
   ]
  },
  {
   "cell_type": "code",
   "execution_count": null,
   "metadata": {},
   "outputs": [],
   "source": [
    "#Program \n",
    "START =30\n",
    "END = 131\n",
    "CONV = 0.6\n",
    "print(\"kph------mph\")\n",
    "for kph in range(START,END, 10):\n",
    "    mph = kph * CONV\n",
    "    print(kph, '\\t', fromat(mph, '0.1f'))\n",
    "\n",
    "\n",
    "\n",
    "\n",
    "\n"
   ]
  },
  {
   "cell_type": "markdown",
   "metadata": {},
   "source": [
    "Program 4 ( 5 pts)\n",
    "\n",
    "Write a for loop to compute the sum of numbers from 1, 2, 3 to 10"
   ]
  },
  {
   "cell_type": "code",
   "execution_count": null,
   "metadata": {},
   "outputs": [],
   "source": [
    "sum = 0;\n",
    "for num in range(1,11):\n",
    "    sum +=num\n",
    "    print(num)\n",
    "print('----')\n",
    "print(\"sum\", sum)"
   ]
  },
  {
   "cell_type": "code",
   "execution_count": null,
   "metadata": {},
   "outputs": [],
   "source": []
  }
 ],
 "metadata": {
  "kernelspec": {
   "display_name": "Python 3",
   "language": "python",
   "name": "python3"
  },
  "language_info": {
   "codemirror_mode": {
    "name": "ipython",
    "version": 3
   },
   "file_extension": ".py",
   "mimetype": "text/x-python",
   "name": "python",
   "nbconvert_exporter": "python",
   "pygments_lexer": "ipython3",
   "version": "3.7.6"
  }
 },
 "nbformat": 4,
 "nbformat_minor": 2
}
