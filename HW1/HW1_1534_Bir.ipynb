{
 "cells": [
  {
   "cell_type": "markdown",
   "metadata": {},
   "source": [
    "# Homework 1 (20 pts)\n",
    "\n",
    "## Due Date: 10/13/2020 ( Tuesday 11:59PM)\n",
    "\n",
    "Save Notebook file as :HW1_LastFourDigitsofYourStudentID_YourName.ipynb\n",
    "\n",
    "Email to: jzhang@eastwest.edu\n",
    "\n",
    "Subject: CI280 Homework 1 "
   ]
  },
  {
   "cell_type": "markdown",
   "metadata": {},
   "source": [
    "Ch02 Input, Output\n",
    "\n",
    "Problem 1: Computer present value ( Input , compute and output: 2 points)\n",
    "\n",
    "present_value = future_value / ( 1.0 + rate) ** years"
   ]
  },
  {
   "cell_type": "code",
   "execution_count": 1,
   "metadata": {},
   "outputs": [
    {
     "name": "stdout",
     "output_type": "stream",
     "text": [
      "Enter future value:10000\n",
      "Enter interest rate:0.05\n",
      "Enter no. of year:10\n",
      "Present value: 6139.13\n"
     ]
    }
   ],
   "source": [
    "# Problem 1: (2 pts)\n",
    "\n",
    "# Input (1 point)\n",
    "future_value = 0\n",
    "p_value = 0\n",
    "years = 0\n",
    "\n",
    "future_value = float(input(\"Enter future value:\"))\n",
    "interest_rate = float(input(\"Enter interest rate:\"))\n",
    "years = int(input('Enter no. of year:'))\n",
    "# Compute (1 point)\n",
    "p_value =  future_value / ( 1.0 + interest_rate) ** years\n",
    "\n",
    "# Output \n",
    "print('Present value:', format(p_value, '.2f'))"
   ]
  },
  {
   "cell_type": "markdown",
   "metadata": {},
   "source": [
    "Ch03 Decision -- if ... else ...\n",
    "\n",
    "Problem 2: Software Sales (Page 154) ( 5 pts)\n",
    "A softare company sells a package that retais for $99. Quantity discounts are given according to following table:\n",
    "    Quantity     Discount\n",
    "    10 - 19       10%\n",
    "    20 - 49       20%\n",
    "    50 - 99       30%\n",
    "    100 or more   40%\n",
    "    \n",
    "Write a program that ask the uer to enter number of packages, and display the dicount rate, discount and total pay.\n",
    "\n",
    "    Declare constant variables -- 1 pt\n",
    "    Input                      -- 1 pt\n",
    "    Compute discount rate      -- 2 pts\n",
    "    Compute other              -- 1 pt\n",
    "    -----------------------------------\n",
    "    Total points                  5 pts"
   ]
  },
  {
   "cell_type": "code",
   "execution_count": 2,
   "metadata": {},
   "outputs": [
    {
     "name": "stdout",
     "output_type": "stream",
     "text": [
      "Enter number of package purchased: 10\n",
      "===Summary=========\n",
      "Number of package purchased: 10\n",
      "Discount rate: 10.0 %\n",
      "Original price $ 990.0\n",
      "Your Discount Saving: $ 99.0\n",
      "Cost after Discount: $ 891.0\n"
     ]
    }
   ],
   "source": [
    "# Problem 2: (5 pts)\n",
    "\n",
    "# Get input\n",
    "package = int(input(\"Enter number of package purchased: \"))\n",
    "mp = 99\n",
    "if package < 10:\n",
    "    discount = 0 \n",
    "elif package < 20:\n",
    "    discount = 10 \n",
    "elif package < 50:\n",
    "    discount = 20  \n",
    "\n",
    "elif package < 100:\n",
    "    discount = 30 \n",
    "else:\n",
    "    discount = 40 \n",
    "\n",
    "# Compute\n",
    "original_price = mp*package\n",
    "discountamount = (discount/100)*original_price\n",
    "Total_cost = original_price - discountamount\n",
    "\n",
    "print('===Summary=========')\n",
    "print('Number of package purchased:', package)\n",
    "print('Discount rate:', format(discount, '.1f'), \"%\")\n",
    "print('Original price', \"$\", format(original_price, '.1f'))\n",
    "print('Your Discount Saving:', \"$\", format(discountamount, '.1f'))\n",
    "print('Cost after Discount:' , \"$\", format(Total_cost, '.1f'))\n",
    "\n",
    "\n",
    "\n"
   ]
  },
  {
   "cell_type": "markdown",
   "metadata": {},
   "source": [
    "Ch04 Loop\n",
    "\n",
    "Problem 3: Tuition Increase ( 3 pts)\n",
    "At one college, the tuition for a full-time student is $8000 per semsestr. \n",
    "The college will incease the tuituin by 3% per year for next five years.\n",
    "Write a program to display the projected tuition amount for the next five years\n",
    "\n",
    "    Declare constant variables \n",
    "    loop and Compute           -- 2 pts\n",
    "    Display format             -- 1 pts\n",
    "    -----------------------------------\n",
    "    Total points                  3 pts"
   ]
  },
  {
   "cell_type": "code",
   "execution_count": 3,
   "metadata": {},
   "outputs": [
    {
     "name": "stdout",
     "output_type": "stream",
     "text": [
      "Projected Tuition for the next five years\n",
      "Year \t\t Tuition\n",
      "--------------------------\n",
      "1\t\t $8240.00\n",
      "2\t\t $8487.20\n",
      "3\t\t $8741.82\n",
      "4\t\t $9004.07\n",
      "5\t\t $9274.19\n"
     ]
    }
   ],
   "source": [
    "# Problem 3: (3 pts)\n",
    "\n",
    "tuition = 8000\n",
    "INCREASE_RATE = 0.03\n",
    "print('Projected Tuition for the next five years')\n",
    "print('Year \\t\\t Tuition')\n",
    "print('--------------------------')\n",
    "for year in range(1, 6):\n",
    "     tuition += (3/100) * tuition\n",
    "     print(str(year) + \"\\t\\t $\" + format(tuition, \".2f\"))\n",
    "    \n",
    "\n",
    "\n",
    "      \n",
    "\n",
    "\n",
    "\n",
    "\n",
    "\n",
    "\n"
   ]
  },
  {
   "cell_type": "markdown",
   "metadata": {},
   "source": [
    "Ch05 Function\n",
    "\n",
    "Problem 4: ( 4 pts)\n",
    "Write a function to generate random numbers, and keep a count how many are even numbers, and how many are odd numbers,\n",
    "and return two counts\n",
    "\n",
    "Generate 100 random numbers to show the ratio.\n",
    "Generate 1000 random numbers to show the ratio.\n",
    "Generate 10000 random numbers to show the ratio.\n",
    "\n",
    "Hints: \n",
    "Use random.randint(0,x) to generate a random number\n",
    "Use num%2 == 0 to check is it is even number\n",
    "\n",
    "    Define function: 3 pts\n",
    "    Invoke function: 1 pts\n",
    "    Total: 4 pts"
   ]
  },
  {
   "cell_type": "code",
   "execution_count": 4,
   "metadata": {
    "scrolled": true
   },
   "outputs": [
    {
     "name": "stdout",
     "output_type": "stream",
     "text": [
      "0.8181818181818182\n",
      "1.032520325203252\n",
      "1.034587995930824\n"
     ]
    }
   ],
   "source": [
    "# Problem 4 (6 pts)\n",
    "import random\n",
    "\n",
    "# Define the function here\n",
    "def countNo(x):\n",
    "    even = 0\n",
    "    odd = 0\n",
    "    for i in range(1,x+1):\n",
    "        num = random.randint(0,100)\n",
    "        if num%2 == 0:\n",
    "            even=even+1\n",
    "        else:\n",
    "            odd=odd+1\n",
    "    return even,odd\n",
    "\n",
    "#ratio for 100 random numbers\n",
    "x=100\n",
    "even,odd=countNo(x)\n",
    "print(float(even/odd))\n",
    "\n",
    "#ratio for 1000 random numbers\n",
    "x=1000\n",
    "even,odd=countNo(x)\n",
    "print(float(even/odd))\n",
    "\n",
    "#ratio for 10000 random numbers\n",
    "x=10000\n",
    "even,odd=countNo(x)\n",
    "print(float(even/odd))     \n",
    "        \n",
    "\n",
    "\n",
    "\n",
    "\n",
    "\n",
    "\n"
   ]
  }
 ],
 "metadata": {
  "kernelspec": {
   "display_name": "Python 3",
   "language": "python",
   "name": "python3"
  },
  "language_info": {
   "codemirror_mode": {
    "name": "ipython",
    "version": 3
   },
   "file_extension": ".py",
   "mimetype": "text/x-python",
   "name": "python",
   "nbconvert_exporter": "python",
   "pygments_lexer": "ipython3",
   "version": "3.7.5"
  }
 },
 "nbformat": 4,
 "nbformat_minor": 2
}
