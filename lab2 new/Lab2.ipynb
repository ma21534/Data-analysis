{
 "cells": [
  {
   "cell_type": "code",
   "execution_count": 1,
   "metadata": {},
   "outputs": [
    {
     "name": "stdout",
     "output_type": "stream",
     "text": [
      "[50, 20, 10, 80, 10]\n",
      "10\n",
      "max = 80\n",
      "3\n",
      "min = 10\n",
      "2\n",
      " length = 5\n",
      " Element = 10\n"
     ]
    }
   ],
   "source": [
    "#CI280 Lab02 – List\n",
    "# Bir Mahato\n",
    "# Date:10/8/2020\n",
    "\n",
    "#1)\n",
    "numbers = [50, 20, 10,80,10]\n",
    "print(numbers)\n",
    "print(numbers[2])\n",
    "\n",
    "max_value = max(numbers)\n",
    "max_index = numbers.index(max_value)\n",
    "print('max =' , max_value)\n",
    "print(max_index)\n",
    "\n",
    "min_value = min(numbers)\n",
    "min_index = numbers.index(min_value)\n",
    "print('min =' , min_value)\n",
    "print(min_index)\n",
    "\n",
    "print(' length =' , len(numbers))\n",
    "print(' Element =' , numbers[len(numbers)-1])\n",
    "\n"
   ]
  },
  {
   "cell_type": "code",
   "execution_count": 2,
   "metadata": {},
   "outputs": [
    {
     "name": "stdout",
     "output_type": "stream",
     "text": [
      "['Steven', 'Will', 'Alicia']\n",
      "--\n",
      "Steven\n",
      "Will\n",
      "Alicia\n",
      "--\n",
      "Alicia\n"
     ]
    }
   ],
   "source": [
    "#2\n",
    "names =['Steven', 'Will', 'Alicia']\n",
    "print(names)\n",
    "\n",
    "print('--')\n",
    "for name in names:\n",
    "    print(name)\n",
    "print('--')\n",
    "index = 2\n",
    "while index < len(names):\n",
    "    print(names[index])\n",
    "    index += 1\n"
   ]
  },
  {
   "cell_type": "code",
   "execution_count": 3,
   "metadata": {},
   "outputs": [
    {
     "name": "stdout",
     "output_type": "stream",
     "text": [
      "[0, 5, 10, 15]\n",
      "[0, 5, 10, 15, 0, 5, 10, 15, 0, 5, 10, 15]\n",
      "[0, 15, 30, 45]\n",
      "90\n",
      "22.5\n"
     ]
    }
   ],
   "source": [
    "#3\n",
    "num1 = list(range(0,20,5))\n",
    "print(num1)\n",
    "\n",
    "num2 = num1 *3\n",
    "print(num2)\n",
    "\n",
    "index = 0\n",
    "while index < len(num1):\n",
    "    num1[index] = num1[index]*3\n",
    "    index += 1\n",
    "print(num1)\n",
    "\n",
    "print(sum(num1))\n",
    "print(sum(num1)/len(num1))"
   ]
  },
  {
   "cell_type": "code",
   "execution_count": 4,
   "metadata": {},
   "outputs": [
    {
     "name": "stdout",
     "output_type": "stream",
     "text": [
      "[0, 10, 20, 30, 40, 50, 60, 70, 80, 90, 100]\n",
      "[0, 10, 20, 30, 40]\n",
      "[20, 30, 40]\n",
      "[70, 80, 90, 100]\n",
      "[80, 90, 100]\n"
     ]
    }
   ],
   "source": [
    "#4) List slicing\n",
    "numbers = list(range(0,101,10))\n",
    "print(numbers)\n",
    "\n",
    "print(numbers[:5])\n",
    "print(numbers[2:5])\n",
    "print(numbers[7:])\n",
    "print(numbers[-3:])\n"
   ]
  },
  {
   "cell_type": "code",
   "execution_count": 5,
   "metadata": {},
   "outputs": [
    {
     "name": "stdout",
     "output_type": "stream",
     "text": [
      "['Chicago', 'Paris']\n",
      "1\n",
      "['Chicago', 'New York', 'Paris']\n",
      "['Paris', 'New York', 'Chicago']\n",
      "['Chicago', 'New York', 'Paris']\n",
      "['Chicago', 'Paris']\n"
     ]
    }
   ],
   "source": [
    "#5) Commonly used method\n",
    "cities = ['Chicago', 'Paris']\n",
    "print(cities)\n",
    "\n",
    "city_index = cities.index('Paris')\n",
    "print(city_index)\n",
    "\n",
    "cities.insert(1, 'New York')\n",
    "print(cities)\n",
    "\n",
    "cities.reverse()\n",
    "print(cities)\n",
    "\n",
    "cities.sort()\n",
    "print(cities)\n",
    "\n",
    "cities.remove('New York')\n",
    "print(cities)"
   ]
  },
  {
   "cell_type": "code",
   "execution_count": null,
   "metadata": {},
   "outputs": [
    {
     "name": "stdout",
     "output_type": "stream",
     "text": [
      "Enter the sales forSunday:200\n",
      "Enter the sales forMonday:250\n",
      "Enter the sales forTuesday:300\n"
     ]
    }
   ],
   "source": [
    "#CI280 Lab02 – List daily sales of one week \n",
    "# Bir Mahato\n",
    "# Date:10/8/2020\n",
    "\n",
    "#Write a program that asks the user to enter a store’s sales for each day of the week\n",
    "#Variables\n",
    "total_sales = 0.0\n",
    "Days = 7\n",
    "#Initialize lists\n",
    "daily_sales = [0.0]* Days\n",
    "days_of_week = ['Sunday', 'Monday', 'Tuesday',  'Wednesday', 'Thursday', 'Friday','Saturday']\n",
    "\n",
    "\n",
    "for i in range(7):\n",
    "    daily_sales[i] = float(input('Enter the sales for' + days_of_week[i] + ':' ))\n",
    "\n",
    "\n",
    "\n",
    "\n",
    "\n",
    "#Display weekly sales\n",
    "print('Weekly Sales')\n",
    "print('------------')\n",
    "\n",
    "\n",
    "for index in range(7):\n",
    "    print(days_of_week [index], ':$', format(daily_sales[index], ',.2f'))\n",
    "\n",
    "\n",
    "\n",
    "#Calculation\n",
    "\n",
    "for number in daily_sales:\n",
    "    total_sales += number\n",
    "Average_sales = sum(daily_sales)/len(daily_sales)    \n",
    "max_sales = max(daily_sales)\n",
    "max_index = daily_sales.index(max_sales)\n",
    "\n",
    "min_sales = min(daily_sales)\n",
    "min_index = daily_sales.index(min_sales)\n",
    "\n",
    "#Display weekly sales Summary\n",
    "print()\n",
    "print('Weekly sales Summary')\n",
    "print('------------')\n",
    "print('Total sales', format(total_sales, ',.2f'))\n",
    "print('Average sales: $', format(Average_sales, ',.2f'))\n",
    "print('The Highest sales is in', days_of_week[max_index], format(max_sales, ',.2f'))\n",
    "print('The lowest sales is in', days_of_week[min_index], format(min_sales, ',.2f'))\n"
   ]
  },
  {
   "cell_type": "code",
   "execution_count": null,
   "metadata": {},
   "outputs": [],
   "source": []
  }
 ],
 "metadata": {
  "kernelspec": {
   "display_name": "Python 3",
   "language": "python",
   "name": "python3"
  },
  "language_info": {
   "codemirror_mode": {
    "name": "ipython",
    "version": 3
   },
   "file_extension": ".py",
   "mimetype": "text/x-python",
   "name": "python",
   "nbconvert_exporter": "python",
   "pygments_lexer": "ipython3",
   "version": "3.7.5"
  }
 },
 "nbformat": 4,
 "nbformat_minor": 2
}
