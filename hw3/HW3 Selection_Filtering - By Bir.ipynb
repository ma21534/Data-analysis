{
 "cells": [
  {
   "cell_type": "markdown",
   "metadata": {},
   "source": [
    "# Homework 3 (40 pts)"
   ]
  },
  {
   "cell_type": "markdown",
   "metadata": {},
   "source": [
    "\n",
    "Due Date: 11/12/2020 (Thursday 11:59 AM\n",
    "\n",
    "Save Notebook file as :HW2_YourStudentID.ipynb\n",
    "\n",
    "Upload to your Github and email the link to: jzhang@eastwest.edu\n",
    "\n",
    "Subject: Homework 3 by YourStudentID and your name"
   ]
  },
  {
   "cell_type": "code",
   "execution_count": 2,
   "metadata": {},
   "outputs": [],
   "source": [
    "%matplotlib inline\n",
    "import pandas as pd"
   ]
  },
  {
   "cell_type": "code",
   "execution_count": 3,
   "metadata": {},
   "outputs": [],
   "source": [
    "# limiting the display rows\n",
    "pd.set_option('display.max_rows', 5)"
   ]
  },
  {
   "cell_type": "code",
   "execution_count": 4,
   "metadata": {},
   "outputs": [
    {
     "name": "stdout",
     "output_type": "stream",
     "text": [
      "(107, 10)\n"
     ]
    },
    {
     "data": {
      "text/html": [
       "<div>\n",
       "<style scoped>\n",
       "    .dataframe tbody tr th:only-of-type {\n",
       "        vertical-align: middle;\n",
       "    }\n",
       "\n",
       "    .dataframe tbody tr th {\n",
       "        vertical-align: top;\n",
       "    }\n",
       "\n",
       "    .dataframe thead th {\n",
       "        text-align: right;\n",
       "    }\n",
       "</style>\n",
       "<table border=\"1\" class=\"dataframe\">\n",
       "  <thead>\n",
       "    <tr style=\"text-align: right;\">\n",
       "      <th></th>\n",
       "      <th>Trans_No</th>\n",
       "      <th>Operator</th>\n",
       "      <th>Sales_First</th>\n",
       "      <th>Sales_Last</th>\n",
       "      <th>Date</th>\n",
       "      <th>Department</th>\n",
       "      <th>Furniture</th>\n",
       "      <th>Pay_Type</th>\n",
       "      <th>Trans_Type</th>\n",
       "      <th>Amount</th>\n",
       "    </tr>\n",
       "  </thead>\n",
       "  <tbody>\n",
       "    <tr>\n",
       "      <th>0</th>\n",
       "      <td>2018-001</td>\n",
       "      <td>KRM</td>\n",
       "      <td>Sebastian</td>\n",
       "      <td>Gruenewald</td>\n",
       "      <td>3/1/2018</td>\n",
       "      <td>Bedroom</td>\n",
       "      <td>Mattress</td>\n",
       "      <td>Finance</td>\n",
       "      <td>Promotion</td>\n",
       "      <td>2788</td>\n",
       "    </tr>\n",
       "    <tr>\n",
       "      <th>1</th>\n",
       "      <td>2018-002</td>\n",
       "      <td>RKM</td>\n",
       "      <td>Sebastian</td>\n",
       "      <td>Gruenewald</td>\n",
       "      <td>3/1/2018</td>\n",
       "      <td>Bedroom</td>\n",
       "      <td>Mattress</td>\n",
       "      <td>Finance</td>\n",
       "      <td>Promotion</td>\n",
       "      <td>3245</td>\n",
       "    </tr>\n",
       "    <tr>\n",
       "      <th>...</th>\n",
       "      <td>...</td>\n",
       "      <td>...</td>\n",
       "      <td>...</td>\n",
       "      <td>...</td>\n",
       "      <td>...</td>\n",
       "      <td>...</td>\n",
       "      <td>...</td>\n",
       "      <td>...</td>\n",
       "      <td>...</td>\n",
       "      <td>...</td>\n",
       "    </tr>\n",
       "    <tr>\n",
       "      <th>105</th>\n",
       "      <td>2018-102</td>\n",
       "      <td>MAP</td>\n",
       "      <td>Chantalle</td>\n",
       "      <td>Desmarais</td>\n",
       "      <td>3/31/2018</td>\n",
       "      <td>Bedroom</td>\n",
       "      <td>Mattress</td>\n",
       "      <td>Paid in Full</td>\n",
       "      <td>Promotion</td>\n",
       "      <td>2000</td>\n",
       "    </tr>\n",
       "    <tr>\n",
       "      <th>106</th>\n",
       "      <td>2018-103</td>\n",
       "      <td>KRM</td>\n",
       "      <td>Sebastian</td>\n",
       "      <td>Gruenewald</td>\n",
       "      <td>3/31/2018</td>\n",
       "      <td>Living Room</td>\n",
       "      <td>End Tables</td>\n",
       "      <td>Finance</td>\n",
       "      <td>Standard</td>\n",
       "      <td>2505</td>\n",
       "    </tr>\n",
       "  </tbody>\n",
       "</table>\n",
       "<p>107 rows × 10 columns</p>\n",
       "</div>"
      ],
      "text/plain": [
       "     Trans_No Operator Sales_First  Sales_Last       Date   Department  \\\n",
       "0    2018-001      KRM   Sebastian  Gruenewald   3/1/2018      Bedroom   \n",
       "1    2018-002      RKM   Sebastian  Gruenewald   3/1/2018      Bedroom   \n",
       "..        ...      ...         ...         ...        ...          ...   \n",
       "105  2018-102      MAP   Chantalle   Desmarais  3/31/2018      Bedroom   \n",
       "106  2018-103      KRM   Sebastian  Gruenewald  3/31/2018  Living Room   \n",
       "\n",
       "      Furniture      Pay_Type Trans_Type  Amount  \n",
       "0      Mattress       Finance  Promotion    2788  \n",
       "1      Mattress       Finance  Promotion    3245  \n",
       "..          ...           ...        ...     ...  \n",
       "105    Mattress  Paid in Full  Promotion    2000  \n",
       "106  End Tables       Finance   Standard    2505  \n",
       "\n",
       "[107 rows x 10 columns]"
      ]
     },
     "execution_count": 4,
     "metadata": {},
     "output_type": "execute_result"
    }
   ],
   "source": [
    "sales = pd.read_csv('data/MarchSales.csv')\n",
    "print(sales.shape)\n",
    "sales"
   ]
  },
  {
   "cell_type": "code",
   "execution_count": null,
   "metadata": {},
   "outputs": [],
   "source": [
    "(107, 10)\n",
    "Trans_No\tOperator\tSales_First\tSales_Last\tDate\tDepartment\tFurniture\tPay_Type\tTrans_Type\tAmount\n",
    "0\t2018-001\tKRM\tSebastian\tGruenewald\t3/1/2018\tBedroom\tMattress\tFinance\tPromotion\t2788\n",
    "1\t2018-002\tRKM\tSebastian\tGruenewald\t3/1/2018\tBedroom\tMattress\tFinance\tPromotion\t3245\n",
    "...\t...\t...\t...\t...\t...\t...\t...\t...\t...\t...\n",
    "105\t2018-102\tMAP\tChantalle\tDesmarais\t3/31/2018\tBedroom\tMattress\tPaid in Full\tPromotion\t2000\n",
    "106\t2018-103\tKRM\tSebastian\tGruenewald\t3/31/2018\tLiving Room\tEnd Tables\tFinance\tStandard\t2505\n",
    "107 rows × 10 columns"
   ]
  },
  {
   "cell_type": "code",
   "execution_count": 105,
   "metadata": {},
   "outputs": [
    {
     "name": "stdout",
     "output_type": "stream",
     "text": [
      "Bir Mahato  & ma21534\n",
      "(107, 10)\n"
     ]
    },
    {
     "data": {
      "text/html": [
       "<div>\n",
       "<style scoped>\n",
       "    .dataframe tbody tr th:only-of-type {\n",
       "        vertical-align: middle;\n",
       "    }\n",
       "\n",
       "    .dataframe tbody tr th {\n",
       "        vertical-align: top;\n",
       "    }\n",
       "\n",
       "    .dataframe thead th {\n",
       "        text-align: right;\n",
       "    }\n",
       "</style>\n",
       "<table border=\"1\" class=\"dataframe\">\n",
       "  <thead>\n",
       "    <tr style=\"text-align: right;\">\n",
       "      <th></th>\n",
       "      <th>Trans_No</th>\n",
       "      <th>Operator</th>\n",
       "      <th>Sales_First</th>\n",
       "      <th>Sales_Last</th>\n",
       "      <th>Date</th>\n",
       "      <th>Department</th>\n",
       "      <th>Furniture</th>\n",
       "      <th>Pay_Type</th>\n",
       "      <th>Trans_Type</th>\n",
       "      <th>Amount</th>\n",
       "    </tr>\n",
       "  </thead>\n",
       "  <tbody>\n",
       "    <tr>\n",
       "      <th>0</th>\n",
       "      <td>2018-001</td>\n",
       "      <td>KRM</td>\n",
       "      <td>Sebastian</td>\n",
       "      <td>Gruenewald</td>\n",
       "      <td>3/1/2018</td>\n",
       "      <td>Bedroom</td>\n",
       "      <td>Mattress</td>\n",
       "      <td>Finance</td>\n",
       "      <td>Promotion</td>\n",
       "      <td>2788</td>\n",
       "    </tr>\n",
       "    <tr>\n",
       "      <th>1</th>\n",
       "      <td>2018-002</td>\n",
       "      <td>RKM</td>\n",
       "      <td>Sebastian</td>\n",
       "      <td>Gruenewald</td>\n",
       "      <td>3/1/2018</td>\n",
       "      <td>Bedroom</td>\n",
       "      <td>Mattress</td>\n",
       "      <td>Finance</td>\n",
       "      <td>Promotion</td>\n",
       "      <td>3245</td>\n",
       "    </tr>\n",
       "    <tr>\n",
       "      <th>...</th>\n",
       "      <td>...</td>\n",
       "      <td>...</td>\n",
       "      <td>...</td>\n",
       "      <td>...</td>\n",
       "      <td>...</td>\n",
       "      <td>...</td>\n",
       "      <td>...</td>\n",
       "      <td>...</td>\n",
       "      <td>...</td>\n",
       "      <td>...</td>\n",
       "    </tr>\n",
       "    <tr>\n",
       "      <th>105</th>\n",
       "      <td>2018-102</td>\n",
       "      <td>MAP</td>\n",
       "      <td>Chantalle</td>\n",
       "      <td>Desmarais</td>\n",
       "      <td>3/31/2018</td>\n",
       "      <td>Bedroom</td>\n",
       "      <td>Mattress</td>\n",
       "      <td>Paid in Full</td>\n",
       "      <td>Promotion</td>\n",
       "      <td>2000</td>\n",
       "    </tr>\n",
       "    <tr>\n",
       "      <th>106</th>\n",
       "      <td>2018-103</td>\n",
       "      <td>KRM</td>\n",
       "      <td>Sebastian</td>\n",
       "      <td>Gruenewald</td>\n",
       "      <td>3/31/2018</td>\n",
       "      <td>Living Room</td>\n",
       "      <td>End Tables</td>\n",
       "      <td>Finance</td>\n",
       "      <td>Standard</td>\n",
       "      <td>2505</td>\n",
       "    </tr>\n",
       "  </tbody>\n",
       "</table>\n",
       "<p>107 rows × 10 columns</p>\n",
       "</div>"
      ],
      "text/plain": [
       "     Trans_No Operator Sales_First  Sales_Last       Date   Department  \\\n",
       "0    2018-001      KRM   Sebastian  Gruenewald   3/1/2018      Bedroom   \n",
       "1    2018-002      RKM   Sebastian  Gruenewald   3/1/2018      Bedroom   \n",
       "..        ...      ...         ...         ...        ...          ...   \n",
       "105  2018-102      MAP   Chantalle   Desmarais  3/31/2018      Bedroom   \n",
       "106  2018-103      KRM   Sebastian  Gruenewald  3/31/2018  Living Room   \n",
       "\n",
       "      Furniture      Pay_Type Trans_Type  Amount  \n",
       "0      Mattress       Finance  Promotion    2788  \n",
       "1      Mattress       Finance  Promotion    3245  \n",
       "..          ...           ...        ...     ...  \n",
       "105    Mattress  Paid in Full  Promotion    2000  \n",
       "106  End Tables       Finance   Standard    2505  \n",
       "\n",
       "[107 rows x 10 columns]"
      ]
     },
     "execution_count": 105,
     "metadata": {},
     "output_type": "execute_result"
    }
   ],
   "source": [
    "print('Bir Mahato  & ma21534')\n",
    "\n",
    "# Problem 1. (2 pt)\n",
    "\n",
    "# Show the number of rows and columns in sales dataframe.\n",
    "print(sales.shape)\n",
    "sales\n",
    "\n",
    "\n",
    "\n"
   ]
  },
  {
   "cell_type": "code",
   "execution_count": 106,
   "metadata": {
    "scrolled": true
   },
   "outputs": [
    {
     "name": "stdout",
     "output_type": "stream",
     "text": [
      "Bir Mahato  & ma21534\n",
      "Index(['Trans_No', 'Operator', 'Sales_First', 'Sales_Last', 'Date',\n",
      "       'Department', 'Furniture', 'Pay_Type', 'Trans_Type', 'Amount'],\n",
      "      dtype='object')\n",
      "----------------------------------------\n",
      "\n"
     ]
    },
    {
     "data": {
      "text/plain": [
       "RangeIndex(start=0, stop=107, step=1)"
      ]
     },
     "execution_count": 106,
     "metadata": {},
     "output_type": "execute_result"
    }
   ],
   "source": [
    "print('Bir Mahato  & ma21534')\n",
    "\n",
    "# Problem 2 (2 pt)\n",
    "\n",
    "# show the column names of the datafram \n",
    "names = sales.columns\n",
    "\n",
    "print(names)\n",
    "print('----------------------------------------\\n')\n",
    "# show the index of the datafram \n",
    "sales.index\n",
    "\n"
   ]
  },
  {
   "cell_type": "code",
   "execution_count": null,
   "metadata": {},
   "outputs": [],
   "source": [
    "Your Name and StudentID\n",
    "\n",
    "Index(['Trans_No', 'Operator', 'Sales_First', 'Sales_Last', 'Date',\n",
    "       'Department', 'Furniture', 'Pay_Type', 'Trans_Type', 'Amount'],\n",
    "      dtype='object')\n",
    "----------------------------------------\n",
    "\n",
    "RangeIndex(start=0, stop=107, step=1)"
   ]
  },
  {
   "cell_type": "code",
   "execution_count": 107,
   "metadata": {},
   "outputs": [
    {
     "name": "stdout",
     "output_type": "stream",
     "text": [
      "Bir Mahato  & ma21534\n",
      "0      2018-001\n",
      "1      2018-002\n",
      "         ...   \n",
      "105    2018-102\n",
      "106    2018-103\n",
      "Name: Trans_No, Length: 107, dtype: object\n"
     ]
    }
   ],
   "source": [
    "print('Bir Mahato  & ma21534')\n",
    "\n",
    "# Problem 3 (2 pt)\n",
    "# Only show Trans number\n",
    "name = sales['Trans_No']  # this is a series\n",
    "print(name)\n",
    "\n"
   ]
  },
  {
   "cell_type": "code",
   "execution_count": null,
   "metadata": {},
   "outputs": [],
   "source": [
    "Your Name and StudentID\n",
    "0      2018-001\n",
    "1      2018-002\n",
    "         ...   \n",
    "105    2018-102\n",
    "106    2018-103\n",
    "Name: Trans_No, Length: 107, dtype: objec"
   ]
  },
  {
   "cell_type": "code",
   "execution_count": 108,
   "metadata": {},
   "outputs": [
    {
     "name": "stdout",
     "output_type": "stream",
     "text": [
      "Bir Mahato  & ma21534\n",
      "\n",
      "Department\n",
      "---------------------------------------------\n",
      "Bedroom\n",
      "Living Room\n",
      "Appliances\n",
      "Dining Room\n"
     ]
    }
   ],
   "source": [
    "print('Bir Mahato  & ma21534')\n",
    "\n",
    "# Problem 4 (4 pt)\n",
    "# Show Department without duplicate\n",
    "Department = sales.Department.unique()\n",
    "\n",
    "\n",
    "print()\n",
    "# Display department name as following format\n",
    "print('Department')\n",
    "print('---------------------------------------------')\n",
    "\n",
    "for name in Department:\n",
    "    print(name)\n",
    "\n"
   ]
  },
  {
   "cell_type": "code",
   "execution_count": null,
   "metadata": {},
   "outputs": [],
   "source": [
    "Your Name and StudentID\n",
    "['Bedroom' 'Living Room' 'Appliances' 'Dining Room']\n",
    "\n",
    "Department\n",
    "---------------------------------------------\n",
    "Bedroom\n",
    "Living Room\n",
    "Appliances\n",
    "Dining Room"
   ]
  },
  {
   "cell_type": "code",
   "execution_count": 109,
   "metadata": {},
   "outputs": [
    {
     "name": "stdout",
     "output_type": "stream",
     "text": [
      "Bir Mahato  & ma21534\n"
     ]
    },
    {
     "data": {
      "text/html": [
       "<div>\n",
       "<style scoped>\n",
       "    .dataframe tbody tr th:only-of-type {\n",
       "        vertical-align: middle;\n",
       "    }\n",
       "\n",
       "    .dataframe tbody tr th {\n",
       "        vertical-align: top;\n",
       "    }\n",
       "\n",
       "    .dataframe thead th {\n",
       "        text-align: right;\n",
       "    }\n",
       "</style>\n",
       "<table border=\"1\" class=\"dataframe\">\n",
       "  <thead>\n",
       "    <tr style=\"text-align: right;\">\n",
       "      <th></th>\n",
       "      <th>Trans_No</th>\n",
       "      <th>Sales_First</th>\n",
       "      <th>Sales_Last</th>\n",
       "    </tr>\n",
       "  </thead>\n",
       "  <tbody>\n",
       "    <tr>\n",
       "      <th>0</th>\n",
       "      <td>2018-001</td>\n",
       "      <td>Sebastian</td>\n",
       "      <td>Gruenewald</td>\n",
       "    </tr>\n",
       "    <tr>\n",
       "      <th>1</th>\n",
       "      <td>2018-002</td>\n",
       "      <td>Sebastian</td>\n",
       "      <td>Gruenewald</td>\n",
       "    </tr>\n",
       "    <tr>\n",
       "      <th>...</th>\n",
       "      <td>...</td>\n",
       "      <td>...</td>\n",
       "      <td>...</td>\n",
       "    </tr>\n",
       "    <tr>\n",
       "      <th>105</th>\n",
       "      <td>2018-102</td>\n",
       "      <td>Chantalle</td>\n",
       "      <td>Desmarais</td>\n",
       "    </tr>\n",
       "    <tr>\n",
       "      <th>106</th>\n",
       "      <td>2018-103</td>\n",
       "      <td>Sebastian</td>\n",
       "      <td>Gruenewald</td>\n",
       "    </tr>\n",
       "  </tbody>\n",
       "</table>\n",
       "<p>107 rows × 3 columns</p>\n",
       "</div>"
      ],
      "text/plain": [
       "     Trans_No Sales_First  Sales_Last\n",
       "0    2018-001   Sebastian  Gruenewald\n",
       "1    2018-002   Sebastian  Gruenewald\n",
       "..        ...         ...         ...\n",
       "105  2018-102   Chantalle   Desmarais\n",
       "106  2018-103   Sebastian  Gruenewald\n",
       "\n",
       "[107 rows x 3 columns]"
      ]
     },
     "execution_count": 109,
     "metadata": {},
     "output_type": "execute_result"
    }
   ],
   "source": [
    "print('Bir Mahato  & ma21534')\n",
    "\n",
    "# Problem 5 (2 pt)\n",
    "# Show the columns: Trans_No, Sales Representatives Name.\n",
    "\n",
    "sales[['Trans_No', 'Sales_First', 'Sales_Last']]\n",
    "\n"
   ]
  },
  {
   "cell_type": "code",
   "execution_count": null,
   "metadata": {},
   "outputs": [],
   "source": [
    "Your Name and StudentID\n",
    "Trans_No\tSales_First\tSales_Last\n",
    "0\t2018-001\tSebastian\tGruenewald\n",
    "1\t2018-002\tSebastian\tGruenewald\n",
    "...\t...\t...\t...\n",
    "105\t2018-102\tChantalle\tDesmarais\n",
    "106\t2018-103\tSebastian\tGruenewald"
   ]
  },
  {
   "cell_type": "code",
   "execution_count": 110,
   "metadata": {},
   "outputs": [
    {
     "name": "stdout",
     "output_type": "stream",
     "text": [
      "Bir Mahato & ma21534\n",
      "\n",
      "   Trans_No Sales_First  Sales_Last\n",
      "0  2018-001   Sebastian  Gruenewald\n",
      "2  2018-003        Jade   Gallagher\n",
      "4  2018-005        Jade   Gallagher\n"
     ]
    }
   ],
   "source": [
    "print('Bir Mahato & ma21534\\n')\n",
    "\n",
    "# Problem 6 (2 pt)\n",
    "# Show the columns: Trans_No, Sales Representatives Name. \n",
    "# (only show the first, third and fifth row)\n",
    "# HitL use .loc\n",
    "\n",
    "\n",
    "res = sales[['Trans_No','Sales_First','Sales_Last']].loc[[0, 2, 4]]\n",
    "print(res)\n"
   ]
  },
  {
   "cell_type": "code",
   "execution_count": null,
   "metadata": {},
   "outputs": [],
   "source": [
    "\tTrans_No\tSales_First\tSales_Last\n",
    "0\t2018-001\tSebastian\tGruenewald\n",
    "2\t2018-003\tJade\tGallagher\n",
    "4\t2018-005\tJade\tGallagher\n"
   ]
  },
  {
   "cell_type": "code",
   "execution_count": 111,
   "metadata": {},
   "outputs": [
    {
     "name": "stdout",
     "output_type": "stream",
     "text": [
      "Bir Mahato  & ma21534\n"
     ]
    },
    {
     "data": {
      "text/html": [
       "<div>\n",
       "<style scoped>\n",
       "    .dataframe tbody tr th:only-of-type {\n",
       "        vertical-align: middle;\n",
       "    }\n",
       "\n",
       "    .dataframe tbody tr th {\n",
       "        vertical-align: top;\n",
       "    }\n",
       "\n",
       "    .dataframe thead th {\n",
       "        text-align: right;\n",
       "    }\n",
       "</style>\n",
       "<table border=\"1\" class=\"dataframe\">\n",
       "  <thead>\n",
       "    <tr style=\"text-align: right;\">\n",
       "      <th></th>\n",
       "      <th>Trans_No</th>\n",
       "      <th>Operator</th>\n",
       "      <th>Sales_First</th>\n",
       "      <th>Sales_Last</th>\n",
       "      <th>Date</th>\n",
       "      <th>Department</th>\n",
       "      <th>Furniture</th>\n",
       "      <th>Pay_Type</th>\n",
       "      <th>Trans_Type</th>\n",
       "      <th>Amount</th>\n",
       "    </tr>\n",
       "  </thead>\n",
       "  <tbody>\n",
       "    <tr>\n",
       "      <th>2</th>\n",
       "      <td>2018-003</td>\n",
       "      <td>MAP</td>\n",
       "      <td>Jade</td>\n",
       "      <td>Gallagher</td>\n",
       "      <td>3/1/2018</td>\n",
       "      <td>Living Room</td>\n",
       "      <td>Sofa, Loveseat, Chair Package</td>\n",
       "      <td>Finance</td>\n",
       "      <td>Promotion</td>\n",
       "      <td>10000</td>\n",
       "    </tr>\n",
       "    <tr>\n",
       "      <th>3</th>\n",
       "      <td>2018-004</td>\n",
       "      <td>MAP</td>\n",
       "      <td>Jade</td>\n",
       "      <td>Gallagher</td>\n",
       "      <td>3/1/2018</td>\n",
       "      <td>Living Room</td>\n",
       "      <td>End Tables</td>\n",
       "      <td>Finance</td>\n",
       "      <td>Promotion</td>\n",
       "      <td>1000</td>\n",
       "    </tr>\n",
       "    <tr>\n",
       "      <th>...</th>\n",
       "      <td>...</td>\n",
       "      <td>...</td>\n",
       "      <td>...</td>\n",
       "      <td>...</td>\n",
       "      <td>...</td>\n",
       "      <td>...</td>\n",
       "      <td>...</td>\n",
       "      <td>...</td>\n",
       "      <td>...</td>\n",
       "      <td>...</td>\n",
       "    </tr>\n",
       "    <tr>\n",
       "      <th>98</th>\n",
       "      <td>2018-095</td>\n",
       "      <td>COK</td>\n",
       "      <td>Sebastian</td>\n",
       "      <td>Gruenewald</td>\n",
       "      <td>3/29/2018</td>\n",
       "      <td>Living Room</td>\n",
       "      <td>Sofa, Loveseat, Chair Package</td>\n",
       "      <td>Finance</td>\n",
       "      <td>Standard</td>\n",
       "      <td>14275</td>\n",
       "    </tr>\n",
       "    <tr>\n",
       "      <th>106</th>\n",
       "      <td>2018-103</td>\n",
       "      <td>KRM</td>\n",
       "      <td>Sebastian</td>\n",
       "      <td>Gruenewald</td>\n",
       "      <td>3/31/2018</td>\n",
       "      <td>Living Room</td>\n",
       "      <td>End Tables</td>\n",
       "      <td>Finance</td>\n",
       "      <td>Standard</td>\n",
       "      <td>2505</td>\n",
       "    </tr>\n",
       "  </tbody>\n",
       "</table>\n",
       "<p>26 rows × 10 columns</p>\n",
       "</div>"
      ],
      "text/plain": [
       "     Trans_No Operator Sales_First  Sales_Last       Date   Department  \\\n",
       "2    2018-003      MAP        Jade   Gallagher   3/1/2018  Living Room   \n",
       "3    2018-004      MAP        Jade   Gallagher   3/1/2018  Living Room   \n",
       "..        ...      ...         ...         ...        ...          ...   \n",
       "98   2018-095      COK   Sebastian  Gruenewald  3/29/2018  Living Room   \n",
       "106  2018-103      KRM   Sebastian  Gruenewald  3/31/2018  Living Room   \n",
       "\n",
       "                         Furniture Pay_Type Trans_Type  Amount  \n",
       "2    Sofa, Loveseat, Chair Package  Finance  Promotion   10000  \n",
       "3                       End Tables  Finance  Promotion    1000  \n",
       "..                             ...      ...        ...     ...  \n",
       "98   Sofa, Loveseat, Chair Package  Finance   Standard   14275  \n",
       "106                     End Tables  Finance   Standard    2505  \n",
       "\n",
       "[26 rows x 10 columns]"
      ]
     },
     "execution_count": 111,
     "metadata": {},
     "output_type": "execute_result"
    }
   ],
   "source": [
    "print('Bir Mahato  & ma21534')\n",
    "\n",
    "# Problem 7 (2 pt)\n",
    "# Show all transactions in the department of Living Room\n",
    "sales['Department'] == 'Bedroom'\n",
    "\n",
    "sales[sales['Department'] == 'Living Room']\n"
   ]
  },
  {
   "cell_type": "code",
   "execution_count": null,
   "metadata": {},
   "outputs": [],
   "source": [
    "Your Name and StudentID\n",
    "Trans_No\tOperator\tSales_First\tSales_Last\tDate\tDepartment\tFurniture\tPay_Type\tTrans_Type\tAmount\n",
    "2\t2018-003\tMAP\tJade\tGallagher\t3/1/2018\tLiving Room\tSofa, Loveseat, Chair Package\tFinance\tPromotion\t10000\n",
    "3\t2018-004\tMAP\tJade\tGallagher\t3/1/2018\tLiving Room\tEnd Tables\tFinance\tPromotion\t1000\n",
    "...\t...\t...\t...\t...\t...\t...\t...\t...\t...\t...\n",
    "98\t2018-095\tCOK\tSebastian\tGruenewald\t3/29/2018\tLiving Room\tSofa, Loveseat, Chair Package\tFinance\tStandard\t14275\n",
    "106\t2018-103\tKRM\tSebastian\tGruenewald\t3/31/2018\tLiving Room\tEnd Tables\tFinance\tStandard\t2505\n",
    "26 rows × 10 columns"
   ]
  },
  {
   "cell_type": "code",
   "execution_count": 136,
   "metadata": {},
   "outputs": [
    {
     "name": "stdout",
     "output_type": "stream",
     "text": [
      "Bir Mahato  & ma21534\n",
      "    Trans_No Operator Sales_First Sales_Last       Date   Department  \\\n",
      "2   2018-003      MAP        Jade  Gallagher   3/1/2018  Living Room   \n",
      "3   2018-004      MAP        Jade  Gallagher   3/1/2018  Living Room   \n",
      "..       ...      ...         ...        ...        ...          ...   \n",
      "73  2018-070      KRM     Ambrose   Sardelis  3/23/2018  Living Room   \n",
      "77  2018-074      MAP        Jade  Gallagher  3/24/2018  Living Room   \n",
      "\n",
      "                        Furniture      Pay_Type Trans_Type  Amount  \n",
      "2   Sofa, Loveseat, Chair Package       Finance  Promotion   10000  \n",
      "3                      End Tables       Finance  Promotion    1000  \n",
      "..                            ...           ...        ...     ...  \n",
      "73  Sofa, Loveseat, Chair Package       Finance  Promotion   12500  \n",
      "77                       Loveseat  Paid in Full  Promotion    1255  \n",
      "\n",
      "[11 rows x 10 columns]\n",
      "----------------------)\n"
     ]
    },
    {
     "data": {
      "text/html": [
       "<div>\n",
       "<style scoped>\n",
       "    .dataframe tbody tr th:only-of-type {\n",
       "        vertical-align: middle;\n",
       "    }\n",
       "\n",
       "    .dataframe tbody tr th {\n",
       "        vertical-align: top;\n",
       "    }\n",
       "\n",
       "    .dataframe thead th {\n",
       "        text-align: right;\n",
       "    }\n",
       "</style>\n",
       "<table border=\"1\" class=\"dataframe\">\n",
       "  <thead>\n",
       "    <tr style=\"text-align: right;\">\n",
       "      <th></th>\n",
       "      <th>Trans_No</th>\n",
       "      <th>Operator</th>\n",
       "      <th>Sales_First</th>\n",
       "      <th>Sales_Last</th>\n",
       "      <th>Date</th>\n",
       "      <th>Department</th>\n",
       "      <th>Furniture</th>\n",
       "      <th>Pay_Type</th>\n",
       "      <th>Trans_Type</th>\n",
       "      <th>Amount</th>\n",
       "    </tr>\n",
       "  </thead>\n",
       "  <tbody>\n",
       "    <tr>\n",
       "      <th>2</th>\n",
       "      <td>2018-003</td>\n",
       "      <td>MAP</td>\n",
       "      <td>Jade</td>\n",
       "      <td>Gallagher</td>\n",
       "      <td>3/1/2018</td>\n",
       "      <td>Living Room</td>\n",
       "      <td>Sofa, Loveseat, Chair Package</td>\n",
       "      <td>Finance</td>\n",
       "      <td>Promotion</td>\n",
       "      <td>10000</td>\n",
       "    </tr>\n",
       "    <tr>\n",
       "      <th>3</th>\n",
       "      <td>2018-004</td>\n",
       "      <td>MAP</td>\n",
       "      <td>Jade</td>\n",
       "      <td>Gallagher</td>\n",
       "      <td>3/1/2018</td>\n",
       "      <td>Living Room</td>\n",
       "      <td>End Tables</td>\n",
       "      <td>Finance</td>\n",
       "      <td>Promotion</td>\n",
       "      <td>1000</td>\n",
       "    </tr>\n",
       "    <tr>\n",
       "      <th>...</th>\n",
       "      <td>...</td>\n",
       "      <td>...</td>\n",
       "      <td>...</td>\n",
       "      <td>...</td>\n",
       "      <td>...</td>\n",
       "      <td>...</td>\n",
       "      <td>...</td>\n",
       "      <td>...</td>\n",
       "      <td>...</td>\n",
       "      <td>...</td>\n",
       "    </tr>\n",
       "    <tr>\n",
       "      <th>73</th>\n",
       "      <td>2018-070</td>\n",
       "      <td>KRM</td>\n",
       "      <td>Ambrose</td>\n",
       "      <td>Sardelis</td>\n",
       "      <td>3/23/2018</td>\n",
       "      <td>Living Room</td>\n",
       "      <td>Sofa, Loveseat, Chair Package</td>\n",
       "      <td>Finance</td>\n",
       "      <td>Promotion</td>\n",
       "      <td>12500</td>\n",
       "    </tr>\n",
       "    <tr>\n",
       "      <th>77</th>\n",
       "      <td>2018-074</td>\n",
       "      <td>MAP</td>\n",
       "      <td>Jade</td>\n",
       "      <td>Gallagher</td>\n",
       "      <td>3/24/2018</td>\n",
       "      <td>Living Room</td>\n",
       "      <td>Loveseat</td>\n",
       "      <td>Paid in Full</td>\n",
       "      <td>Promotion</td>\n",
       "      <td>1255</td>\n",
       "    </tr>\n",
       "  </tbody>\n",
       "</table>\n",
       "<p>11 rows × 10 columns</p>\n",
       "</div>"
      ],
      "text/plain": [
       "    Trans_No Operator Sales_First Sales_Last       Date   Department  \\\n",
       "2   2018-003      MAP        Jade  Gallagher   3/1/2018  Living Room   \n",
       "3   2018-004      MAP        Jade  Gallagher   3/1/2018  Living Room   \n",
       "..       ...      ...         ...        ...        ...          ...   \n",
       "73  2018-070      KRM     Ambrose   Sardelis  3/23/2018  Living Room   \n",
       "77  2018-074      MAP        Jade  Gallagher  3/24/2018  Living Room   \n",
       "\n",
       "                        Furniture      Pay_Type Trans_Type  Amount  \n",
       "2   Sofa, Loveseat, Chair Package       Finance  Promotion   10000  \n",
       "3                      End Tables       Finance  Promotion    1000  \n",
       "..                            ...           ...        ...     ...  \n",
       "73  Sofa, Loveseat, Chair Package       Finance  Promotion   12500  \n",
       "77                       Loveseat  Paid in Full  Promotion    1255  \n",
       "\n",
       "[11 rows x 10 columns]"
      ]
     },
     "execution_count": 136,
     "metadata": {},
     "output_type": "execute_result"
    }
   ],
   "source": [
    "print('Bir Mahato  & ma21534')\n",
    "\n",
    "# Problem 8 (2 pts)\n",
    "# Show all transaction in Living Room Department and Trans_Type is Promotion\n",
    "\n",
    "res = sales[(sales.Department == 'Living Room') & (sales.Trans_Type == 'Promotion')]\n",
    "print(res)\n",
    "\n",
    "print('----------------------)')\n",
    "#we can also use this\n",
    "res = sales[(sales['Department'] == 'Living Room') & (sales['Trans_Type'] == 'Promotion')][['Trans_No','Operator','Sales_First','Sales_Last','Date','Department','Furniture','Pay_Type', 'Trans_Type', 'Amount']]\n",
    "res\n",
    "\n",
    "\n",
    "\n",
    "\n",
    "\n"
   ]
  },
  {
   "cell_type": "code",
   "execution_count": 132,
   "metadata": {},
   "outputs": [
    {
     "name": "stdout",
     "output_type": "stream",
     "text": [
      "Bir Mahato  & ma21534\n",
      "     Trans_No Operator Sales_First  Sales_Last       Date   Department  \\\n",
      "0    2018-001      KRM   Sebastian  Gruenewald   3/1/2018      Bedroom   \n",
      "1    2018-002      RKM   Sebastian  Gruenewald   3/1/2018      Bedroom   \n",
      "..        ...      ...         ...         ...        ...          ...   \n",
      "104  2018-101      KRM   Sebastian  Gruenewald  3/31/2018      Bedroom   \n",
      "106  2018-103      KRM   Sebastian  Gruenewald  3/31/2018  Living Room   \n",
      "\n",
      "                 Furniture Pay_Type Trans_Type  Amount  \n",
      "0                 Mattress  Finance  Promotion    2788  \n",
      "1                 Mattress  Finance  Promotion    3245  \n",
      "..                     ...      ...        ...     ...  \n",
      "104  Bedroom Furniture Set  Finance  Promotion    5773  \n",
      "106             End Tables  Finance   Standard    2505  \n",
      "\n",
      "[64 rows x 10 columns]\n",
      "-----------------\n"
     ]
    },
    {
     "data": {
      "text/html": [
       "<div>\n",
       "<style scoped>\n",
       "    .dataframe tbody tr th:only-of-type {\n",
       "        vertical-align: middle;\n",
       "    }\n",
       "\n",
       "    .dataframe tbody tr th {\n",
       "        vertical-align: top;\n",
       "    }\n",
       "\n",
       "    .dataframe thead th {\n",
       "        text-align: right;\n",
       "    }\n",
       "</style>\n",
       "<table border=\"1\" class=\"dataframe\">\n",
       "  <thead>\n",
       "    <tr style=\"text-align: right;\">\n",
       "      <th></th>\n",
       "      <th>Trans_No</th>\n",
       "      <th>Operator</th>\n",
       "      <th>Sales_First</th>\n",
       "      <th>Sales_Last</th>\n",
       "      <th>Date</th>\n",
       "      <th>Department</th>\n",
       "      <th>Furniture</th>\n",
       "      <th>Pay_Type</th>\n",
       "      <th>Trans_Type</th>\n",
       "      <th>Amount</th>\n",
       "    </tr>\n",
       "  </thead>\n",
       "  <tbody>\n",
       "    <tr>\n",
       "      <th>0</th>\n",
       "      <td>2018-001</td>\n",
       "      <td>KRM</td>\n",
       "      <td>Sebastian</td>\n",
       "      <td>Gruenewald</td>\n",
       "      <td>3/1/2018</td>\n",
       "      <td>Bedroom</td>\n",
       "      <td>Mattress</td>\n",
       "      <td>Finance</td>\n",
       "      <td>Promotion</td>\n",
       "      <td>2788</td>\n",
       "    </tr>\n",
       "    <tr>\n",
       "      <th>1</th>\n",
       "      <td>2018-002</td>\n",
       "      <td>RKM</td>\n",
       "      <td>Sebastian</td>\n",
       "      <td>Gruenewald</td>\n",
       "      <td>3/1/2018</td>\n",
       "      <td>Bedroom</td>\n",
       "      <td>Mattress</td>\n",
       "      <td>Finance</td>\n",
       "      <td>Promotion</td>\n",
       "      <td>3245</td>\n",
       "    </tr>\n",
       "    <tr>\n",
       "      <th>...</th>\n",
       "      <td>...</td>\n",
       "      <td>...</td>\n",
       "      <td>...</td>\n",
       "      <td>...</td>\n",
       "      <td>...</td>\n",
       "      <td>...</td>\n",
       "      <td>...</td>\n",
       "      <td>...</td>\n",
       "      <td>...</td>\n",
       "      <td>...</td>\n",
       "    </tr>\n",
       "    <tr>\n",
       "      <th>104</th>\n",
       "      <td>2018-101</td>\n",
       "      <td>KRM</td>\n",
       "      <td>Sebastian</td>\n",
       "      <td>Gruenewald</td>\n",
       "      <td>3/31/2018</td>\n",
       "      <td>Bedroom</td>\n",
       "      <td>Bedroom Furniture Set</td>\n",
       "      <td>Finance</td>\n",
       "      <td>Promotion</td>\n",
       "      <td>5773</td>\n",
       "    </tr>\n",
       "    <tr>\n",
       "      <th>106</th>\n",
       "      <td>2018-103</td>\n",
       "      <td>KRM</td>\n",
       "      <td>Sebastian</td>\n",
       "      <td>Gruenewald</td>\n",
       "      <td>3/31/2018</td>\n",
       "      <td>Living Room</td>\n",
       "      <td>End Tables</td>\n",
       "      <td>Finance</td>\n",
       "      <td>Standard</td>\n",
       "      <td>2505</td>\n",
       "    </tr>\n",
       "  </tbody>\n",
       "</table>\n",
       "<p>64 rows × 10 columns</p>\n",
       "</div>"
      ],
      "text/plain": [
       "     Trans_No Operator Sales_First  Sales_Last       Date   Department  \\\n",
       "0    2018-001      KRM   Sebastian  Gruenewald   3/1/2018      Bedroom   \n",
       "1    2018-002      RKM   Sebastian  Gruenewald   3/1/2018      Bedroom   \n",
       "..        ...      ...         ...         ...        ...          ...   \n",
       "104  2018-101      KRM   Sebastian  Gruenewald  3/31/2018      Bedroom   \n",
       "106  2018-103      KRM   Sebastian  Gruenewald  3/31/2018  Living Room   \n",
       "\n",
       "                 Furniture Pay_Type Trans_Type  Amount  \n",
       "0                 Mattress  Finance  Promotion    2788  \n",
       "1                 Mattress  Finance  Promotion    3245  \n",
       "..                     ...      ...        ...     ...  \n",
       "104  Bedroom Furniture Set  Finance  Promotion    5773  \n",
       "106             End Tables  Finance   Standard    2505  \n",
       "\n",
       "[64 rows x 10 columns]"
      ]
     },
     "execution_count": 132,
     "metadata": {},
     "output_type": "execute_result"
    }
   ],
   "source": [
    "print('Bir Mahato  & ma21534')\n",
    "\n",
    "# Problem 9 (2 pts)\n",
    "# Show all transaction which amount is over 1000 or Pay_Type is Finance\n",
    "\n",
    "res = sales[(sales.Amount > 1000) & (sales.Pay_Type=='Finance')]\n",
    "print(res)\n",
    "\n",
    "\n",
    "print('--------------------------------------')\n",
    "#or we can use 'Trans_No','Operator','Sales_First','Sales_Last','Date',\n",
    "res = sales[(sales.Amount > 1000) & (sales.Pay_Type=='Finance')][['Trans_No','Operator','Sales_First','Sales_Last','Date','Department','Furniture','Pay_Type', 'Trans_Type', 'Amount']]\n",
    "res\n"
   ]
  },
  {
   "cell_type": "code",
   "execution_count": null,
   "metadata": {},
   "outputs": [],
   "source": [
    "\tTrans_No\tOperator\tSales_First\tSales_Last\tDate\tDepartment\tFurniture\tPay_Type\tTrans_Type\tAmount\n",
    "0\t2018-001\tKRM\tSebastian\tGruenewald\t3/1/2018\tBedroom\tMattress\tFinance\tPromotion\t2788\n",
    "1\t2018-002\tRKM\tSebastian\tGruenewald\t3/1/2018\tBedroom\tMattress\tFinance\tPromotion\t3245\n",
    "...\t...\t...\t...\t...\t...\t...\t...\t...\t...\t...\n",
    "104\t2018-101\tKRM\tSebastian\tGruenewald\t3/31/2018\tBedroom\tBedroom Furniture Set\tFinance\tPromotion\t5773\n",
    "106\t2018-103\tKRM\tSebastian\tGruenewald\t3/31/2018\tLiving Room\tEnd Tables\tFinance\tStandard\t2505"
   ]
  },
  {
   "cell_type": "code",
   "execution_count": 114,
   "metadata": {},
   "outputs": [
    {
     "name": "stdout",
     "output_type": "stream",
     "text": [
      "Bir Mahato  & ma21534\n"
     ]
    },
    {
     "data": {
      "text/html": [
       "<div>\n",
       "<style scoped>\n",
       "    .dataframe tbody tr th:only-of-type {\n",
       "        vertical-align: middle;\n",
       "    }\n",
       "\n",
       "    .dataframe tbody tr th {\n",
       "        vertical-align: top;\n",
       "    }\n",
       "\n",
       "    .dataframe thead th {\n",
       "        text-align: right;\n",
       "    }\n",
       "</style>\n",
       "<table border=\"1\" class=\"dataframe\">\n",
       "  <thead>\n",
       "    <tr style=\"text-align: right;\">\n",
       "      <th></th>\n",
       "      <th>Trans_No</th>\n",
       "      <th>Furniture</th>\n",
       "      <th>Pay_Type</th>\n",
       "      <th>Amount</th>\n",
       "    </tr>\n",
       "  </thead>\n",
       "  <tbody>\n",
       "    <tr>\n",
       "      <th>5</th>\n",
       "      <td>2018-006</td>\n",
       "      <td>Sofa, Loveseat, Chair Package</td>\n",
       "      <td>Finance</td>\n",
       "      <td>12000</td>\n",
       "    </tr>\n",
       "    <tr>\n",
       "      <th>6</th>\n",
       "      <td>2018-006</td>\n",
       "      <td>Sofa, Loveseat, Chair Package</td>\n",
       "      <td>Finance</td>\n",
       "      <td>12000</td>\n",
       "    </tr>\n",
       "    <tr>\n",
       "      <th>...</th>\n",
       "      <td>...</td>\n",
       "      <td>...</td>\n",
       "      <td>...</td>\n",
       "      <td>...</td>\n",
       "    </tr>\n",
       "    <tr>\n",
       "      <th>100</th>\n",
       "      <td>2018-097</td>\n",
       "      <td>Bedroom Furniture Set</td>\n",
       "      <td>Finance</td>\n",
       "      <td>14321</td>\n",
       "    </tr>\n",
       "    <tr>\n",
       "      <th>103</th>\n",
       "      <td>2018-100</td>\n",
       "      <td>Bedroom Furniture Set</td>\n",
       "      <td>Finance</td>\n",
       "      <td>11234</td>\n",
       "    </tr>\n",
       "  </tbody>\n",
       "</table>\n",
       "<p>11 rows × 4 columns</p>\n",
       "</div>"
      ],
      "text/plain": [
       "     Trans_No                      Furniture Pay_Type  Amount\n",
       "5    2018-006  Sofa, Loveseat, Chair Package  Finance   12000\n",
       "6    2018-006  Sofa, Loveseat, Chair Package  Finance   12000\n",
       "..        ...                            ...      ...     ...\n",
       "100  2018-097          Bedroom Furniture Set  Finance   14321\n",
       "103  2018-100          Bedroom Furniture Set  Finance   11234\n",
       "\n",
       "[11 rows x 4 columns]"
      ]
     },
     "execution_count": 114,
     "metadata": {},
     "output_type": "execute_result"
    }
   ],
   "source": [
    "print('Bir Mahato  & ma21534')\n",
    "\n",
    "# Problem 10 (2 pts)\n",
    "# Show all transaction which amount is over 10000\n",
    "# Only include columns: Trans_No, Furniture,Pay_Type, Amount\n",
    "sales[sales['Amount']>10000][['Trans_No', 'Furniture', 'Pay_Type', 'Amount']]\n",
    "\n",
    "\n",
    "\n",
    "\n",
    "\n"
   ]
  },
  {
   "cell_type": "code",
   "execution_count": null,
   "metadata": {},
   "outputs": [],
   "source": [
    "Your Name and StudentID\n",
    "Out[33]:\n",
    "Trans_No\tFurniture\tPay_Type\tAmount\n",
    "5\t2018-006\tSofa, Loveseat, Chair Package\tFinance\t12000\n",
    "6\t2018-006\tSofa, Loveseat, Chair Package\tFinance\t12000\n",
    "...\t...\t...\t...\t...\n",
    "100\t2018-097\tBedroom Furniture Set\tFinance\t14321\n",
    "103\t2018-100\tBedroom Furniture Set\tFinance\t11234\n",
    "11 rows × 4 columns"
   ]
  },
  {
   "cell_type": "code",
   "execution_count": 115,
   "metadata": {},
   "outputs": [
    {
     "name": "stdout",
     "output_type": "stream",
     "text": [
      "Bir Mahato  & ma21534\n"
     ]
    },
    {
     "data": {
      "text/html": [
       "<div>\n",
       "<style scoped>\n",
       "    .dataframe tbody tr th:only-of-type {\n",
       "        vertical-align: middle;\n",
       "    }\n",
       "\n",
       "    .dataframe tbody tr th {\n",
       "        vertical-align: top;\n",
       "    }\n",
       "\n",
       "    .dataframe thead th {\n",
       "        text-align: right;\n",
       "    }\n",
       "</style>\n",
       "<table border=\"1\" class=\"dataframe\">\n",
       "  <thead>\n",
       "    <tr style=\"text-align: right;\">\n",
       "      <th></th>\n",
       "      <th>Trans_No</th>\n",
       "      <th>Operator</th>\n",
       "      <th>Sales_First</th>\n",
       "      <th>Sales_Last</th>\n",
       "      <th>Date</th>\n",
       "      <th>Department</th>\n",
       "      <th>Furniture</th>\n",
       "      <th>Pay_Type</th>\n",
       "      <th>Trans_Type</th>\n",
       "      <th>Amount</th>\n",
       "    </tr>\n",
       "  </thead>\n",
       "  <tbody>\n",
       "    <tr>\n",
       "      <th>5</th>\n",
       "      <td>2018-006</td>\n",
       "      <td>COK</td>\n",
       "      <td>Ambrose</td>\n",
       "      <td>Sardelis</td>\n",
       "      <td>3/1/2018</td>\n",
       "      <td>Living Room</td>\n",
       "      <td>Sofa, Loveseat, Chair Package</td>\n",
       "      <td>Finance</td>\n",
       "      <td>Promotion</td>\n",
       "      <td>12000</td>\n",
       "    </tr>\n",
       "    <tr>\n",
       "      <th>6</th>\n",
       "      <td>2018-006</td>\n",
       "      <td>COK</td>\n",
       "      <td>Ambrose</td>\n",
       "      <td>Sardelis</td>\n",
       "      <td>3/1/2018</td>\n",
       "      <td>Living Room</td>\n",
       "      <td>Sofa, Loveseat, Chair Package</td>\n",
       "      <td>Finance</td>\n",
       "      <td>Promotion</td>\n",
       "      <td>12000</td>\n",
       "    </tr>\n",
       "    <tr>\n",
       "      <th>...</th>\n",
       "      <td>...</td>\n",
       "      <td>...</td>\n",
       "      <td>...</td>\n",
       "      <td>...</td>\n",
       "      <td>...</td>\n",
       "      <td>...</td>\n",
       "      <td>...</td>\n",
       "      <td>...</td>\n",
       "      <td>...</td>\n",
       "      <td>...</td>\n",
       "    </tr>\n",
       "    <tr>\n",
       "      <th>96</th>\n",
       "      <td>2018-093</td>\n",
       "      <td>MAP</td>\n",
       "      <td>Ambrose</td>\n",
       "      <td>Sardelis</td>\n",
       "      <td>3/28/2018</td>\n",
       "      <td>Bedroom</td>\n",
       "      <td>Mattress</td>\n",
       "      <td>Paid in Full</td>\n",
       "      <td>Standard</td>\n",
       "      <td>2000</td>\n",
       "    </tr>\n",
       "    <tr>\n",
       "      <th>97</th>\n",
       "      <td>2018-094</td>\n",
       "      <td>MAP</td>\n",
       "      <td>Ambrose</td>\n",
       "      <td>Sardelis</td>\n",
       "      <td>3/28/2018</td>\n",
       "      <td>Bedroom</td>\n",
       "      <td>Mattress</td>\n",
       "      <td>Paid in Full</td>\n",
       "      <td>Promotion</td>\n",
       "      <td>3245</td>\n",
       "    </tr>\n",
       "  </tbody>\n",
       "</table>\n",
       "<p>24 rows × 10 columns</p>\n",
       "</div>"
      ],
      "text/plain": [
       "    Trans_No Operator Sales_First Sales_Last       Date   Department  \\\n",
       "5   2018-006      COK     Ambrose   Sardelis   3/1/2018  Living Room   \n",
       "6   2018-006      COK     Ambrose   Sardelis   3/1/2018  Living Room   \n",
       "..       ...      ...         ...        ...        ...          ...   \n",
       "96  2018-093      MAP     Ambrose   Sardelis  3/28/2018      Bedroom   \n",
       "97  2018-094      MAP     Ambrose   Sardelis  3/28/2018      Bedroom   \n",
       "\n",
       "                        Furniture      Pay_Type Trans_Type  Amount  \n",
       "5   Sofa, Loveseat, Chair Package       Finance  Promotion   12000  \n",
       "6   Sofa, Loveseat, Chair Package       Finance  Promotion   12000  \n",
       "..                            ...           ...        ...     ...  \n",
       "96                       Mattress  Paid in Full   Standard    2000  \n",
       "97                       Mattress  Paid in Full  Promotion    3245  \n",
       "\n",
       "[24 rows x 10 columns]"
      ]
     },
     "execution_count": 115,
     "metadata": {},
     "output_type": "execute_result"
    }
   ],
   "source": [
    "print('Bir Mahato  & ma21534')\n",
    "\n",
    "# Problem 11 ( 2 pt)\n",
    "# Show the all transactions by Ambrose Sardelis\n",
    "\n",
    "res = sales[(sales.Sales_First == 'Ambrose') & (sales.Sales_Last =='Sardelis')]\n",
    "res\n",
    "\n",
    "\n"
   ]
  },
  {
   "cell_type": "code",
   "execution_count": null,
   "metadata": {},
   "outputs": [],
   "source": [
    "\tTrans_No\tOperator\tSales_First\tSales_Last\tDate\tDepartment\tFurniture\tPay_Type\tTrans_Type\tAmount\n",
    "5\t2018-006\tCOK\tAmbrose\tSardelis\t3/1/2018\tLiving Room\tSofa, Loveseat, Chair Package\tFinance\tPromotion\t12000\n",
    "6\t2018-006\tCOK\tAmbrose\tSardelis\t3/1/2018\tLiving Room\tSofa, Loveseat, Chair Package\tFinance\tPromotion\t12000\n",
    "...\t...\t...\t...\t...\t...\t...\t...\t...\t...\t...\n",
    "96\t2018-093\tMAP\tAmbrose\tSardelis\t3/28/2018\tBedroom\tMattress\tPaid in Full\tStandard\t2000\n",
    "97\t2018-094\tMAP\tAmbrose\tSardelis\t3/28/2018\tBedroom\tMattress\tPaid in Full\tPromotion\t3245\n",
    "24 rows × 10 columns"
   ]
  },
  {
   "cell_type": "code",
   "execution_count": 116,
   "metadata": {},
   "outputs": [
    {
     "name": "stdout",
     "output_type": "stream",
     "text": [
      "Bir Mahato  & ma21534\n",
      "Total Number of transactions by Ambrose Sardelis is  24\n"
     ]
    }
   ],
   "source": [
    "print('Bir Mahato  & ma21534')\n",
    "\n",
    "# Problem 12 ( 2 pt)\n",
    " \n",
    "# Show the number of transactions by Ambrose Sardelis\n",
    "\n",
    "tran = len(sales[sales.Sales_First=='Ambrose'])\n",
    "print('Total Number of transactions by Ambrose Sardelis is ',tran )\n",
    "\n"
   ]
  },
  {
   "cell_type": "code",
   "execution_count": null,
   "metadata": {},
   "outputs": [],
   "source": [
    "Your Name and StudentID\n",
    "Number of transactions by Ambrose Sardelis:24"
   ]
  },
  {
   "cell_type": "code",
   "execution_count": 118,
   "metadata": {},
   "outputs": [
    {
     "name": "stdout",
     "output_type": "stream",
     "text": [
      "Bir Mahato  & ma21534\n",
      "Total sale by Ambrose Sardelis is $  131899\n"
     ]
    }
   ],
   "source": [
    "print('Bir Mahato  & ma21534')\n",
    "\n",
    "# Problem 13 ( 2 pt)\n",
    " \n",
    "# Show the total sales by Ambrose Sardelis\n",
    "res = sales[(sales.Sales_First == 'Ambrose') & (sales.Sales_Last =='Sardelis')]['Amount'].sum()\n",
    "print('Total sale by Ambrose Sardelis is $ ', res)\n",
    "\n",
    "\n",
    "\n",
    "\n"
   ]
  },
  {
   "cell_type": "code",
   "execution_count": null,
   "metadata": {},
   "outputs": [],
   "source": [
    "Your Name and StudentID\n",
    "Total sales of transactions by Ambrose Sardelis $ 131899"
   ]
  },
  {
   "cell_type": "code",
   "execution_count": 117,
   "metadata": {},
   "outputs": [
    {
     "name": "stdout",
     "output_type": "stream",
     "text": [
      "Bir Mahato  & ma21534\n",
      "Total sales of March: $  493887\n"
     ]
    }
   ],
   "source": [
    "print('Bir Mahato  & ma21534')\n",
    "\n",
    "# Problem 14 (2 pt)\n",
    "# Show the total sales amount in March.\n",
    "res = sales['Amount'].sum()\n",
    "print('Total sales of March: $ ', res)\n",
    "\n",
    "\n",
    "\n"
   ]
  },
  {
   "cell_type": "code",
   "execution_count": null,
   "metadata": {},
   "outputs": [],
   "source": [
    "Your Name and StudentID\n",
    "Total Sales: $ 493887"
   ]
  },
  {
   "cell_type": "code",
   "execution_count": 119,
   "metadata": {},
   "outputs": [
    {
     "name": "stdout",
     "output_type": "stream",
     "text": [
      "Bir Mahato  & ma21534\n",
      "Total Number of transactions :  107\n",
      "Total Promotion transactions :  52\n",
      "Percentage of sales transaction  48.60%\n"
     ]
    }
   ],
   "source": [
    "print('Bir Mahato  & ma21534')\n",
    "\n",
    "# Problem 15 & 16 ( 4 pts)\n",
    "# What the percentage of sales transactions in Promotion type among all sales transaction.\n",
    "\n",
    "total_tran = len(sales['Trans_Type'])\n",
    "print('Total Number of transactions : ',total_tran )\n",
    "\n",
    "prom_tran = len(sales[sales.Trans_Type == 'Promotion'])\n",
    "print('Total Promotion transactions : ',prom_tran )\n",
    "\n",
    "print('Percentage of sales transaction ', format((prom_tran/total_tran), '.2%'))\n",
    "\n",
    "\n"
   ]
  },
  {
   "cell_type": "code",
   "execution_count": null,
   "metadata": {},
   "outputs": [],
   "source": [
    "Your Name and StudentID\n",
    "\n",
    "Total transaction number: 107\n",
    "Number of sales transactions in Promotion: 52\n",
    "percentage of sales transactions  48.60%"
   ]
  },
  {
   "cell_type": "code",
   "execution_count": 120,
   "metadata": {},
   "outputs": [
    {
     "name": "stdout",
     "output_type": "stream",
     "text": [
      "Bir Mahato  & ma21534\n",
      "Total sales of March: $  493887\n",
      "Total sales of Living room: $  155323\n",
      "Percentage of total sales is  31.45%\n"
     ]
    }
   ],
   "source": [
    "print('Bir Mahato  & ma21534')\n",
    "\n",
    "# Problem 16 & 17 ( 4 pts)\n",
    "# What the percentage of total sales from living room department among total sales.\n",
    "tot_sale = sales['Amount'].sum()\n",
    "print('Total sales of March: $ ', tot_sale)\n",
    "\n",
    "living_room_sales = sales[(sales.Department == 'Living Room')]['Amount'].sum()\n",
    "print('Total sales of Living room: $ ', living_room_sales)\n",
    "\n",
    "print('Percentage of total sales is ', format((living_room_sales/tot_sale), '.2%'))\n",
    "\n"
   ]
  },
  {
   "cell_type": "code",
   "execution_count": null,
   "metadata": {},
   "outputs": [],
   "source": [
    "March total sales : $ 493887\n",
    "Living room department total sales : $ 155323\n",
    "The percentage of total sales 31.45%"
   ]
  },
  {
   "cell_type": "code",
   "execution_count": 121,
   "metadata": {},
   "outputs": [
    {
     "name": "stdout",
     "output_type": "stream",
     "text": [
      "Bir Mahato  & ma21534\n",
      "Total sales of Bedroom and Living room: $  282018\n"
     ]
    }
   ],
   "source": [
    "print('Bir Mahato  & ma21534')\n",
    "\n",
    "# Problem 18 ( 2 pt)\n",
    "# Show sales Amount from Bedroom and living room department. ( hint: Use OR Logic)\n",
    "#or  [(sales.Department =='Living Room')]]\n",
    "\n",
    "total_sale_amount = sales[(sales['Department'] =='Bedroom') | (sales['Department'] =='Living Room') ].Amount.sum()\n",
    "print('Total sales of Bedroom and Living room: $ ', total_sale_amount)\n",
    "\n",
    "\n"
   ]
  },
  {
   "cell_type": "code",
   "execution_count": null,
   "metadata": {},
   "outputs": [],
   "source": [
    "YourStudentID\n",
    "Total Sales by Bedroom and living room department: $ 282018"
   ]
  },
  {
   "cell_type": "code",
   "execution_count": 122,
   "metadata": {},
   "outputs": [
    {
     "name": "stdout",
     "output_type": "stream",
     "text": [
      "Bir Mahato  & ma21534\n",
      "Total transactions from Bedroom and Living Room Department is  50\n"
     ]
    }
   ],
   "source": [
    "print('Bir Mahato  & ma21534')\n",
    "\n",
    "# Problem 19 ( 2 pt)\n",
    "# Show the number of sales transactions from Bedroom department and Living Room department.\n",
    "#  ( hint: Use OR Logic)\n",
    "\n",
    "total_trans = len(sales[(sales['Department'] =='Bedroom') | (sales['Department'] =='Living Room') ])\n",
    "print('Total transactions from Bedroom and Living Room Department is ',total_trans )\n"
   ]
  },
  {
   "cell_type": "code",
   "execution_count": null,
   "metadata": {},
   "outputs": [],
   "source": []
  }
 ],
 "metadata": {
  "kernelspec": {
   "display_name": "Python 3",
   "language": "python",
   "name": "python3"
  },
  "language_info": {
   "codemirror_mode": {
    "name": "ipython",
    "version": 3
   },
   "file_extension": ".py",
   "mimetype": "text/x-python",
   "name": "python",
   "nbconvert_exporter": "python",
   "pygments_lexer": "ipython3",
   "version": "3.8.3"
  }
 },
 "nbformat": 4,
 "nbformat_minor": 1
}
